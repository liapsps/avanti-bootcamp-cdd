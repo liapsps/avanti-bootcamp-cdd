{
 "cells": [
  {
   "cell_type": "code",
   "execution_count": 1,
   "id": "cc63a6b5-9204-4c49-8561-e449a216a8a0",
   "metadata": {
    "tags": []
   },
   "outputs": [],
   "source": [
    "import pandas as pd"
   ]
  },
  {
   "cell_type": "code",
   "execution_count": 2,
   "id": "f28c3a18-de16-461a-9164-286e2b9ae530",
   "metadata": {
    "tags": []
   },
   "outputs": [],
   "source": [
    "# ler conjunto de dados do repositório remoto\n",
    "df = pd.read_csv('https://raw.githubusercontent.com/atlantico-academy/datasets/refs/heads/main/diamonds.csv')\n",
    "# salvar conjunto de dados na pasta raw\n",
    "df = df.to_csv('../data/raw/data.csv', index=False)"
   ]
  },
  {
   "cell_type": "code",
   "execution_count": 3,
   "id": "16b8c4be-b38e-4a58-b368-d53d5f43c6f2",
   "metadata": {
    "tags": []
   },
   "outputs": [],
   "source": [
    "# criar dicionário de dados\n",
    "data_dictionary = pd.DataFrame([\n",
    "    {\n",
    "        'variavel': 'price',\n",
    "        'descricao': 'price in US dollars ($326--$18,823)',\n",
    "        'tipo': 'quantitativa',\n",
    "        'subtipo': 'contínua'\n",
    "    },\n",
    "    {\n",
    "        'variavel': 'carat',\n",
    "        'descricao': 'weight of the diamond (0.2--5.01)',\n",
    "        'tipo': 'quantitativa',\n",
    "        'subtipo': 'contínua'\n",
    "    },\n",
    "    {\n",
    "        'variavel': 'cut',\n",
    "        'descricao': 'quality of the cut (Fair, Good, Very Good, Premium, Ideal)',\n",
    "        'tipo': 'qualitativa',\n",
    "        'subtipo': 'ordinal'\n",
    "    },\n",
    "    {\n",
    "        'variavel': 'color',\n",
    "        'descricao': 'diamond colour, from D (best) to J (worst)',\n",
    "        'tipo': 'qualitativa',\n",
    "        'subtipo': 'ordinal'\n",
    "    },\n",
    "    {\n",
    "        'variavel': 'clarity',\n",
    "        'descricao': 'a measurement of how clear the diamond is (I1 (worst), SI2, SI1, VS2, VS1, VVS2, VVS1, IF (best))',\n",
    "        'tipo': 'qualitativa',\n",
    "        'subtipo': 'ordinal'\n",
    "    },\n",
    "    {\n",
    "        'variavel': 'x',\n",
    "        'descricao': 'length in mm (0--10.74)',\n",
    "        'tipo': 'quantitativa',\n",
    "        'subtipo': 'contínua'\n",
    "    },\n",
    "    {\n",
    "        'variavel': 'y',\n",
    "        'descricao': 'width in mm (0--58.9)',\n",
    "        'tipo': 'quantitativa',\n",
    "        'subtipo': 'contínua'\n",
    "    },\n",
    "    {\n",
    "        'variavel': 'z',\n",
    "        'descricao': 'depth in mm (0--31.8)',\n",
    "        'tipo': 'quantitativa',\n",
    "        'subtipo': 'contínua'\n",
    "    },\n",
    "    {\n",
    "        'variavel': 'depth',\n",
    "        'descricao': 'total depth percentage = z / mean(x, y) = 2 * z / (x + y) (43--79)',\n",
    "        'tipo': 'quantitativa',\n",
    "        'subtipo': 'contínua'\n",
    "    },\n",
    "    {\n",
    "        'variavel': 'table',\n",
    "        'descricao': 'width of top of diamond relative to widest point (43--95)',\n",
    "        'tipo': 'quantitativa',\n",
    "        'subtipo': 'contínua',\n",
    "    }\n",
    "])\n",
    "# salvar dicionário de dados\n",
    "data_dictionary.to_csv(\"../data/external/dictionary.csv\", index=False)"
   ]
  },
  {
   "cell_type": "code",
   "execution_count": null,
   "id": "6e44fb92-3555-4c98-8416-b2a33e395166",
   "metadata": {},
   "outputs": [],
   "source": []
  }
 ],
 "metadata": {
  "kernelspec": {
   "display_name": "Python 3 (ipykernel)",
   "language": "python",
   "name": "python3"
  },
  "language_info": {
   "codemirror_mode": {
    "name": "ipython",
    "version": 3
   },
   "file_extension": ".py",
   "mimetype": "text/x-python",
   "name": "python",
   "nbconvert_exporter": "python",
   "pygments_lexer": "ipython3",
   "version": "3.10.11"
  }
 },
 "nbformat": 4,
 "nbformat_minor": 5
}
